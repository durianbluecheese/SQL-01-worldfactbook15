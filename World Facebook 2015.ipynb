{
 "cells": [
  {
   "cell_type": "markdown",
   "metadata": {},
   "source": [
    "In this project, I will work with a table extracted from the World Factbook database.\n",
    "\n",
    "The World Factbook, also known as the CIA World Factbook, is a reference resource produced by the Central Intelligence Agency (CIA) with almanac-style information about the countries of the world.\n",
    "\n",
    "Data Source: https://www.cia.gov/library/publications/download/download-2015/index.html"
   ]
  },
  {
   "cell_type": "code",
   "execution_count": 3,
   "metadata": {},
   "outputs": [
    {
     "name": "stdout",
     "output_type": "stream",
     "text": [
      "Collecting package metadata (current_repodata.json): done\n",
      "Solving environment: done\n",
      "\n",
      "# All requested packages already installed.\n",
      "\n"
     ]
    }
   ],
   "source": [
    "!conda install -yc conda-forge ipython-sql\\"
   ]
  },
  {
   "cell_type": "code",
   "execution_count": 4,
   "metadata": {},
   "outputs": [],
   "source": [
    "%%capture\n",
    "%load_ext sql\n",
    "%sql sqlite:///factbook.db"
   ]
  },
  {
   "cell_type": "markdown",
   "metadata": {},
   "source": [
    "First of all, I am going to display the first 5 rows of the table in order to get myself familiar with the data."
   ]
  },
  {
   "cell_type": "code",
   "execution_count": 5,
   "metadata": {
    "scrolled": false
   },
   "outputs": [
    {
     "name": "stdout",
     "output_type": "stream",
     "text": [
      " * sqlite:///factbook.db\n",
      "Done.\n"
     ]
    },
    {
     "data": {
      "text/html": [
       "<table>\n",
       "    <tr>\n",
       "        <th>id</th>\n",
       "        <th>code</th>\n",
       "        <th>name</th>\n",
       "        <th>area</th>\n",
       "        <th>area_land</th>\n",
       "        <th>area_water</th>\n",
       "        <th>population</th>\n",
       "        <th>population_growth</th>\n",
       "        <th>birth_rate</th>\n",
       "        <th>death_rate</th>\n",
       "        <th>migration_rate</th>\n",
       "    </tr>\n",
       "    <tr>\n",
       "        <td>1</td>\n",
       "        <td>af</td>\n",
       "        <td>Afghanistan</td>\n",
       "        <td>652230</td>\n",
       "        <td>652230</td>\n",
       "        <td>0</td>\n",
       "        <td>32564342</td>\n",
       "        <td>2.32</td>\n",
       "        <td>38.57</td>\n",
       "        <td>13.89</td>\n",
       "        <td>1.51</td>\n",
       "    </tr>\n",
       "    <tr>\n",
       "        <td>2</td>\n",
       "        <td>al</td>\n",
       "        <td>Albania</td>\n",
       "        <td>28748</td>\n",
       "        <td>27398</td>\n",
       "        <td>1350</td>\n",
       "        <td>3029278</td>\n",
       "        <td>0.3</td>\n",
       "        <td>12.92</td>\n",
       "        <td>6.58</td>\n",
       "        <td>3.3</td>\n",
       "    </tr>\n",
       "    <tr>\n",
       "        <td>3</td>\n",
       "        <td>ag</td>\n",
       "        <td>Algeria</td>\n",
       "        <td>2381741</td>\n",
       "        <td>2381741</td>\n",
       "        <td>0</td>\n",
       "        <td>39542166</td>\n",
       "        <td>1.84</td>\n",
       "        <td>23.67</td>\n",
       "        <td>4.31</td>\n",
       "        <td>0.92</td>\n",
       "    </tr>\n",
       "    <tr>\n",
       "        <td>4</td>\n",
       "        <td>an</td>\n",
       "        <td>Andorra</td>\n",
       "        <td>468</td>\n",
       "        <td>468</td>\n",
       "        <td>0</td>\n",
       "        <td>85580</td>\n",
       "        <td>0.12</td>\n",
       "        <td>8.13</td>\n",
       "        <td>6.96</td>\n",
       "        <td>0.0</td>\n",
       "    </tr>\n",
       "    <tr>\n",
       "        <td>5</td>\n",
       "        <td>ao</td>\n",
       "        <td>Angola</td>\n",
       "        <td>1246700</td>\n",
       "        <td>1246700</td>\n",
       "        <td>0</td>\n",
       "        <td>19625353</td>\n",
       "        <td>2.78</td>\n",
       "        <td>38.78</td>\n",
       "        <td>11.49</td>\n",
       "        <td>0.46</td>\n",
       "    </tr>\n",
       "</table>"
      ],
      "text/plain": [
       "[(1, 'af', 'Afghanistan', 652230, 652230, 0, 32564342, 2.32, 38.57, 13.89, 1.51),\n",
       " (2, 'al', 'Albania', 28748, 27398, 1350, 3029278, 0.3, 12.92, 6.58, 3.3),\n",
       " (3, 'ag', 'Algeria', 2381741, 2381741, 0, 39542166, 1.84, 23.67, 4.31, 0.92),\n",
       " (4, 'an', 'Andorra', 468, 468, 0, 85580, 0.12, 8.13, 6.96, 0.0),\n",
       " (5, 'ao', 'Angola', 1246700, 1246700, 0, 19625353, 2.78, 38.78, 11.49, 0.46)]"
      ]
     },
     "execution_count": 5,
     "metadata": {},
     "output_type": "execute_result"
    }
   ],
   "source": [
    "%%sql\n",
    "SELECT *\n",
    "  FROM facts\n",
    " LIMIT 5;"
   ]
  },
  {
   "cell_type": "markdown",
   "metadata": {},
   "source": [
    "As we can see, there are 11 columns in the table - \"Facts\":\n",
    "\n",
    "1. id\n",
    "   * This could be a key to join with other tables in the database.\n",
    "2. code - ISO Alpha-2 country codes\n",
    "3. name - The name of the country.\n",
    "4. area- The country's total area (both land and water).\n",
    "5. area_land - The country's land area in square kilometers.\n",
    "6. area_water - The country's waterarea in square kilometers.\n",
    "7. population - The country's population.\n",
    "8. population_growth- The country's population growth as a percentage.\n",
    "9. birth_rate - The country's birth rate, or the number of births a year per 1,000 people.\n",
    "10. death_rate - The country's death rate, or the number of death a year per 1,000 people.\n",
    "11. migration_rate - The country's migration rate, or the difference between the number of immigrants and the number of emigrants per year.\n",
    "\n",
    "\n",
    "I would grouped into two categories that describe a country's demographics:\n",
    "\n",
    "1. People/Population(Population, Growth, Birth & Death Rate, Migration Rate)\n",
    "2. Area(Land, Water, Total)"
   ]
  },
  {
   "cell_type": "markdown",
   "metadata": {},
   "source": [
    "\n",
    "Now I am going to ask some questions and compute summary statistics:\n",
    "\n",
    "1. Population\n",
    "\n",
    "1-1. Which country has the largest population?\n",
    "1-2. Is the country with the largest population also the most densely populated?\n",
    "1-3. Does this country has the highest birth rate?\n",
    "1-4. What is its ratio of birth/rate rate?"
   ]
  },
  {
   "cell_type": "code",
   "execution_count": 6,
   "metadata": {},
   "outputs": [
    {
     "name": "stdout",
     "output_type": "stream",
     "text": [
      " * sqlite:///factbook.db\n",
      "Done.\n"
     ]
    },
    {
     "data": {
      "text/html": [
       "<table>\n",
       "    <tr>\n",
       "        <th>Max_Pop</th>\n",
       "        <th>Min_Pop</th>\n",
       "        <th>Max_PopGrow</th>\n",
       "        <th>Min_PopGrow</th>\n",
       "    </tr>\n",
       "    <tr>\n",
       "        <td>7256490011</td>\n",
       "        <td>0</td>\n",
       "        <td>4.02</td>\n",
       "        <td>0.0</td>\n",
       "    </tr>\n",
       "</table>"
      ],
      "text/plain": [
       "[(7256490011, 0, 4.02, 0.0)]"
      ]
     },
     "execution_count": 6,
     "metadata": {},
     "output_type": "execute_result"
    }
   ],
   "source": [
    "%%sql\n",
    "SELECT MAX(population) AS Max_Pop, \n",
    "       MIN(population) AS Min_Pop, \n",
    "       MAX(population_growth) AS Max_PopGrow, \n",
    "       MIN(population_growth) AS Min_PopGrow\n",
    "  FROM facts;"
   ]
  },
  {
   "cell_type": "markdown",
   "metadata": {},
   "source": [
    "It is interesting that: \n",
    "\n",
    "1. The maximum population shown here is over 7 million, which is unlikely for a country because earth's population is about 7.5 million.\n",
    "2. The minimum population is 0. \n",
    "\n",
    "So let's look into this:"
   ]
  },
  {
   "cell_type": "code",
   "execution_count": 7,
   "metadata": {},
   "outputs": [
    {
     "name": "stdout",
     "output_type": "stream",
     "text": [
      " * sqlite:///factbook.db\n",
      "Done.\n"
     ]
    },
    {
     "data": {
      "text/html": [
       "<table>\n",
       "    <tr>\n",
       "        <th>id</th>\n",
       "        <th>code</th>\n",
       "        <th>name</th>\n",
       "        <th>area</th>\n",
       "        <th>area_land</th>\n",
       "        <th>area_water</th>\n",
       "        <th>population</th>\n",
       "        <th>population_growth</th>\n",
       "        <th>birth_rate</th>\n",
       "        <th>death_rate</th>\n",
       "        <th>migration_rate</th>\n",
       "    </tr>\n",
       "    <tr>\n",
       "        <td>261</td>\n",
       "        <td>xx</td>\n",
       "        <td>World</td>\n",
       "        <td>None</td>\n",
       "        <td>None</td>\n",
       "        <td>None</td>\n",
       "        <td>7256490011</td>\n",
       "        <td>1.08</td>\n",
       "        <td>18.6</td>\n",
       "        <td>7.8</td>\n",
       "        <td>None</td>\n",
       "    </tr>\n",
       "</table>"
      ],
      "text/plain": [
       "[(261, 'xx', 'World', None, None, None, 7256490011, 1.08, 18.6, 7.8, None)]"
      ]
     },
     "execution_count": 7,
     "metadata": {},
     "output_type": "execute_result"
    }
   ],
   "source": [
    "%%sql\n",
    "SELECT *\n",
    "  FROM facts\n",
    " WHERE population == (SELECT MAX(population)\n",
    "                        FROM facts);"
   ]
  },
  {
   "cell_type": "code",
   "execution_count": 8,
   "metadata": {},
   "outputs": [
    {
     "name": "stdout",
     "output_type": "stream",
     "text": [
      " * sqlite:///factbook.db\n",
      "Done.\n"
     ]
    },
    {
     "data": {
      "text/html": [
       "<table>\n",
       "    <tr>\n",
       "        <th>id</th>\n",
       "        <th>code</th>\n",
       "        <th>name</th>\n",
       "        <th>area</th>\n",
       "        <th>area_land</th>\n",
       "        <th>area_water</th>\n",
       "        <th>population</th>\n",
       "        <th>population_growth</th>\n",
       "        <th>birth_rate</th>\n",
       "        <th>death_rate</th>\n",
       "        <th>migration_rate</th>\n",
       "    </tr>\n",
       "    <tr>\n",
       "        <td>250</td>\n",
       "        <td>ay</td>\n",
       "        <td>Antarctica</td>\n",
       "        <td>None</td>\n",
       "        <td>280000</td>\n",
       "        <td>None</td>\n",
       "        <td>0</td>\n",
       "        <td>None</td>\n",
       "        <td>None</td>\n",
       "        <td>None</td>\n",
       "        <td>None</td>\n",
       "    </tr>\n",
       "</table>"
      ],
      "text/plain": [
       "[(250, 'ay', 'Antarctica', None, 280000, None, 0, None, None, None, None)]"
      ]
     },
     "execution_count": 8,
     "metadata": {},
     "output_type": "execute_result"
    }
   ],
   "source": [
    "%%sql\n",
    "SELECT *\n",
    "  FROM facts\n",
    " WHERE population == (SELECT MIN(population)\n",
    "                        FROM facts);"
   ]
  },
  {
   "cell_type": "markdown",
   "metadata": {},
   "source": [
    "It turns out that: \n",
    "\n",
    "1. The table contains a row for the whole world, which explains why the largest population is over 7 million\n",
    "2. The row where population is 0 is for Antartica(https://www.cia.gov/library/publications/the-world-factbook/geos/ay.html), Earth's southernmost continent where there is no inhabitant. \n",
    "\n",
    "Moving forward, I am going to exclude the row for the \"world\"."
   ]
  },
  {
   "cell_type": "code",
   "execution_count": 9,
   "metadata": {},
   "outputs": [
    {
     "name": "stdout",
     "output_type": "stream",
     "text": [
      " * sqlite:///factbook.db\n",
      "Done.\n"
     ]
    },
    {
     "data": {
      "text/html": [
       "<table>\n",
       "    <tr>\n",
       "        <th>id</th>\n",
       "        <th>code</th>\n",
       "        <th>name</th>\n",
       "        <th>area</th>\n",
       "        <th>area_land</th>\n",
       "        <th>area_water</th>\n",
       "        <th>population</th>\n",
       "        <th>population_growth</th>\n",
       "        <th>birth_rate</th>\n",
       "        <th>death_rate</th>\n",
       "        <th>migration_rate</th>\n",
       "    </tr>\n",
       "    <tr>\n",
       "        <td>37</td>\n",
       "        <td>ch</td>\n",
       "        <td>China</td>\n",
       "        <td>9596960</td>\n",
       "        <td>9326410</td>\n",
       "        <td>270550</td>\n",
       "        <td>1367485388</td>\n",
       "        <td>0.45</td>\n",
       "        <td>12.49</td>\n",
       "        <td>7.53</td>\n",
       "        <td>0.44</td>\n",
       "    </tr>\n",
       "</table>"
      ],
      "text/plain": [
       "[(37, 'ch', 'China', 9596960, 9326410, 270550, 1367485388, 0.45, 12.49, 7.53, 0.44)]"
      ]
     },
     "execution_count": 9,
     "metadata": {},
     "output_type": "execute_result"
    }
   ],
   "source": [
    "%%sql\n",
    "SELECT *\n",
    "  FROM facts\n",
    " WHERE population == (SELECT MAX(population)\n",
    "                        FROM facts\n",
    "                       WHERE name <> 'World'); "
   ]
  },
  {
   "cell_type": "markdown",
   "metadata": {},
   "source": [
    "The result tells us that China(https://www.cia.gov/library/publications/the-world-factbook/geos/ch.html) has the largest population."
   ]
  },
  {
   "cell_type": "code",
   "execution_count": 10,
   "metadata": {
    "scrolled": true
   },
   "outputs": [
    {
     "name": "stdout",
     "output_type": "stream",
     "text": [
      " * sqlite:///factbook.db\n",
      "Done.\n"
     ]
    },
    {
     "data": {
      "text/html": [
       "<table>\n",
       "    <tr>\n",
       "        <th>code</th>\n",
       "        <th>name</th>\n",
       "        <th>population</th>\n",
       "        <th>area_land</th>\n",
       "        <th>pop_density</th>\n",
       "    </tr>\n",
       "    <tr>\n",
       "        <td>mc</td>\n",
       "        <td>Macau</td>\n",
       "        <td>592731</td>\n",
       "        <td>28</td>\n",
       "        <td>21168</td>\n",
       "    </tr>\n",
       "</table>"
      ],
      "text/plain": [
       "[('mc', 'Macau', 592731, 28, 21168)]"
      ]
     },
     "execution_count": 10,
     "metadata": {},
     "output_type": "execute_result"
    }
   ],
   "source": [
    "%%sql\n",
    "SELECT code, name, population, area_land, population/area_land AS pop_density\n",
    "  FROM facts\n",
    " WHERE pop_density == (SELECT MAX(population/area_land)\n",
    "                         FROM facts);"
   ]
  },
  {
   "cell_type": "markdown",
   "metadata": {},
   "source": [
    "Macau, also spelled Macao, and officially the Macao Special Administrative Region of the People's Republic of China, is a city in the western Pearl River Delta by the South China Sea.(https://www.cia.gov/library/publications/the-world-factbook/geos/mc.html)\n",
    "\n",
    "Although Macau which is part of China has the highest population density, it does not mean that China is the most densely populated country.\n",
    "\n",
    "Now I want to see the top 10 most densely populated countries/territories/regions to understand better."
   ]
  },
  {
   "cell_type": "code",
   "execution_count": 12,
   "metadata": {},
   "outputs": [
    {
     "name": "stdout",
     "output_type": "stream",
     "text": [
      " * sqlite:///factbook.db\n",
      "Done.\n"
     ]
    },
    {
     "data": {
      "text/html": [
       "<table>\n",
       "    <tr>\n",
       "        <th>name</th>\n",
       "        <th>population</th>\n",
       "        <th>area_land</th>\n",
       "        <th>pop_density</th>\n",
       "    </tr>\n",
       "    <tr>\n",
       "        <td>Macau</td>\n",
       "        <td>592731</td>\n",
       "        <td>28</td>\n",
       "        <td>21168</td>\n",
       "    </tr>\n",
       "    <tr>\n",
       "        <td>Monaco</td>\n",
       "        <td>30535</td>\n",
       "        <td>2</td>\n",
       "        <td>15267</td>\n",
       "    </tr>\n",
       "    <tr>\n",
       "        <td>Singapore</td>\n",
       "        <td>5674472</td>\n",
       "        <td>687</td>\n",
       "        <td>8259</td>\n",
       "    </tr>\n",
       "    <tr>\n",
       "        <td>Hong Kong</td>\n",
       "        <td>7141106</td>\n",
       "        <td>1073</td>\n",
       "        <td>6655</td>\n",
       "    </tr>\n",
       "    <tr>\n",
       "        <td>Gaza Strip</td>\n",
       "        <td>1869055</td>\n",
       "        <td>360</td>\n",
       "        <td>5191</td>\n",
       "    </tr>\n",
       "    <tr>\n",
       "        <td>Gibraltar</td>\n",
       "        <td>29258</td>\n",
       "        <td>6</td>\n",
       "        <td>4876</td>\n",
       "    </tr>\n",
       "    <tr>\n",
       "        <td>Bahrain</td>\n",
       "        <td>1346613</td>\n",
       "        <td>760</td>\n",
       "        <td>1771</td>\n",
       "    </tr>\n",
       "    <tr>\n",
       "        <td>Maldives</td>\n",
       "        <td>393253</td>\n",
       "        <td>298</td>\n",
       "        <td>1319</td>\n",
       "    </tr>\n",
       "    <tr>\n",
       "        <td>Malta</td>\n",
       "        <td>413965</td>\n",
       "        <td>316</td>\n",
       "        <td>1310</td>\n",
       "    </tr>\n",
       "    <tr>\n",
       "        <td>Bermuda</td>\n",
       "        <td>70196</td>\n",
       "        <td>54</td>\n",
       "        <td>1299</td>\n",
       "    </tr>\n",
       "</table>"
      ],
      "text/plain": [
       "[('Macau', 592731, 28, 21168),\n",
       " ('Monaco', 30535, 2, 15267),\n",
       " ('Singapore', 5674472, 687, 8259),\n",
       " ('Hong Kong', 7141106, 1073, 6655),\n",
       " ('Gaza Strip', 1869055, 360, 5191),\n",
       " ('Gibraltar', 29258, 6, 4876),\n",
       " ('Bahrain', 1346613, 760, 1771),\n",
       " ('Maldives', 393253, 298, 1319),\n",
       " ('Malta', 413965, 316, 1310),\n",
       " ('Bermuda', 70196, 54, 1299)]"
      ]
     },
     "execution_count": 12,
     "metadata": {},
     "output_type": "execute_result"
    }
   ],
   "source": [
    "%%sql\n",
    "SELECT name, population, area_land, population/area_land AS pop_density\n",
    "  FROM facts\n",
    " WHERE pop_density\n",
    " ORDER BY pop_density DESC\n",
    " LIMIT 10;"
   ]
  },
  {
   "cell_type": "markdown",
   "metadata": {},
   "source": [
    "It look like that Monaco(https://www.cia.gov/library/publications/the-world-factbook/geos/mn.html) is the most densely populated country with a population density of 211,68 people per square kilometer.\n",
    "\n",
    "I also noticed that Hong Kong(https://www.cia.gov/library/publications/the-world-factbook/geos/print_hk.html) is the 4th most densely populated territory that is also part of People's Republic of China. "
   ]
  },
  {
   "cell_type": "code",
   "execution_count": 95,
   "metadata": {},
   "outputs": [
    {
     "name": "stdout",
     "output_type": "stream",
     "text": [
      "Done.\n"
     ]
    },
    {
     "data": {
      "text/html": [
       "<table>\n",
       "    <tr>\n",
       "        <th>id</th>\n",
       "        <th>code</th>\n",
       "        <th>name</th>\n",
       "        <th>area</th>\n",
       "        <th>area_land</th>\n",
       "        <th>area_water</th>\n",
       "        <th>population</th>\n",
       "        <th>population_growth</th>\n",
       "        <th>birth_rate</th>\n",
       "        <th>death_rate</th>\n",
       "        <th>migration_rate</th>\n",
       "    </tr>\n",
       "    <tr>\n",
       "        <td>128</td>\n",
       "        <td>ng</td>\n",
       "        <td>Niger</td>\n",
       "        <td>None</td>\n",
       "        <td>1266700</td>\n",
       "        <td>300</td>\n",
       "        <td>18045729</td>\n",
       "        <td>3.25</td>\n",
       "        <td>45.45</td>\n",
       "        <td>12.42</td>\n",
       "        <td>0.56</td>\n",
       "    </tr>\n",
       "</table>"
      ],
      "text/plain": [
       "[(128, 'ng', 'Niger', None, 1266700, 300, 18045729, 3.25, 45.45, 12.42, 0.56)]"
      ]
     },
     "execution_count": 95,
     "metadata": {},
     "output_type": "execute_result"
    }
   ],
   "source": [
    "%%sql\n",
    "SELECT *\n",
    "  FROM facts\n",
    " WHERE birth_rate = (SELECT MAX(birth_rate)\n",
    "                       FROM facts); "
   ]
  },
  {
   "cell_type": "markdown",
   "metadata": {},
   "source": [
    "As the most populated country, China does not have the highest birth rate. \n",
    "\n",
    "According to Statista.com, the fertility rate in Niger(https://www.cia.gov/library/publications/the-world-factbook/geos/ng.html) was estimated to be 6.49 children per woman, in 2017.(https://www.statista.com/statistics/262884/countries-with-the-highest-fertility-rates/)"
   ]
  },
  {
   "cell_type": "code",
   "execution_count": 13,
   "metadata": {},
   "outputs": [
    {
     "name": "stdout",
     "output_type": "stream",
     "text": [
      " * sqlite:///factbook.db\n",
      "Done.\n"
     ]
    },
    {
     "data": {
      "text/html": [
       "<table>\n",
       "    <tr>\n",
       "        <th>population_growth</th>\n",
       "        <th>birth_rate/death_rate</th>\n",
       "    </tr>\n",
       "    <tr>\n",
       "        <td>0.45</td>\n",
       "        <td>1.658698539176627</td>\n",
       "    </tr>\n",
       "</table>"
      ],
      "text/plain": [
       "[(0.45, 1.658698539176627)]"
      ]
     },
     "execution_count": 13,
     "metadata": {},
     "output_type": "execute_result"
    }
   ],
   "source": [
    "%%sql\n",
    "SELECT population_growth, birth_rate/death_rate\n",
    "  FROM facts\n",
    " WHERE name = 'China'; "
   ]
  },
  {
   "cell_type": "markdown",
   "metadata": {},
   "source": [
    "This tells us: there were about 1.7 births for every death in China as of 2015."
   ]
  },
  {
   "cell_type": "code",
   "execution_count": 17,
   "metadata": {},
   "outputs": [
    {
     "name": "stdout",
     "output_type": "stream",
     "text": [
      " * sqlite:///factbook.db\n",
      "Done.\n"
     ]
    },
    {
     "data": {
      "text/html": [
       "<table>\n",
       "    <tr>\n",
       "        <th>AVG(population_growth)</th>\n",
       "        <th>China_population_growth</th>\n",
       "    </tr>\n",
       "    <tr>\n",
       "        <td>1.2014893617021278</td>\n",
       "        <td>0.45</td>\n",
       "    </tr>\n",
       "</table>"
      ],
      "text/plain": [
       "[(1.2014893617021278, 0.45)]"
      ]
     },
     "execution_count": 17,
     "metadata": {},
     "output_type": "execute_result"
    }
   ],
   "source": [
    "%%sql\n",
    "SELECT AVG(population_growth), (SELECT population_growth\n",
    "                                  FROM facts\n",
    "                                 WHERE name = 'China') AS China_population_growth\n",
    "  FROM facts\n",
    " WHERE name <> 'World'; "
   ]
  },
  {
   "cell_type": "markdown",
   "metadata": {},
   "source": [
    "China has a population growth rate that is 62.5% below the average population growth rate of the world. \n",
    "\n",
    "Its slow population growth and low birth rate could be explained by the one-child policy."
   ]
  },
  {
   "cell_type": "markdown",
   "metadata": {},
   "source": [
    "\n",
    "2. Area\n",
    "\n",
    "2-1. Which country is the largest country by area?\n",
    "2-2. Does this country hold a large population?\n",
    "2-3. What is its ratio of land to water?"
   ]
  },
  {
   "cell_type": "code",
   "execution_count": 122,
   "metadata": {},
   "outputs": [
    {
     "name": "stdout",
     "output_type": "stream",
     "text": [
      "Done.\n"
     ]
    },
    {
     "data": {
      "text/html": [
       "<table>\n",
       "    <tr>\n",
       "        <th>id</th>\n",
       "        <th>code</th>\n",
       "        <th>name</th>\n",
       "        <th>area</th>\n",
       "        <th>area_land</th>\n",
       "        <th>area_water</th>\n",
       "        <th>population</th>\n",
       "        <th>population_growth</th>\n",
       "        <th>birth_rate</th>\n",
       "        <th>death_rate</th>\n",
       "        <th>migration_rate</th>\n",
       "    </tr>\n",
       "    <tr>\n",
       "        <td>143</td>\n",
       "        <td>rs</td>\n",
       "        <td>Russia</td>\n",
       "        <td>17098242</td>\n",
       "        <td>16377742</td>\n",
       "        <td>720500</td>\n",
       "        <td>142423773</td>\n",
       "        <td>0.04</td>\n",
       "        <td>11.6</td>\n",
       "        <td>13.69</td>\n",
       "        <td>1.69</td>\n",
       "    </tr>\n",
       "    <tr>\n",
       "        <td>32</td>\n",
       "        <td>ca</td>\n",
       "        <td>Canada</td>\n",
       "        <td>9984670</td>\n",
       "        <td>9093507</td>\n",
       "        <td>891163</td>\n",
       "        <td>35099836</td>\n",
       "        <td>0.75</td>\n",
       "        <td>10.28</td>\n",
       "        <td>8.42</td>\n",
       "        <td>5.66</td>\n",
       "    </tr>\n",
       "    <tr>\n",
       "        <td>186</td>\n",
       "        <td>us</td>\n",
       "        <td>United States</td>\n",
       "        <td>9826675</td>\n",
       "        <td>9161966</td>\n",
       "        <td>664709</td>\n",
       "        <td>321368864</td>\n",
       "        <td>0.78</td>\n",
       "        <td>12.49</td>\n",
       "        <td>8.15</td>\n",
       "        <td>3.86</td>\n",
       "    </tr>\n",
       "    <tr>\n",
       "        <td>37</td>\n",
       "        <td>ch</td>\n",
       "        <td>China</td>\n",
       "        <td>9596960</td>\n",
       "        <td>9326410</td>\n",
       "        <td>270550</td>\n",
       "        <td>1367485388</td>\n",
       "        <td>0.45</td>\n",
       "        <td>12.49</td>\n",
       "        <td>7.53</td>\n",
       "        <td>0.44</td>\n",
       "    </tr>\n",
       "    <tr>\n",
       "        <td>24</td>\n",
       "        <td>br</td>\n",
       "        <td>Brazil</td>\n",
       "        <td>8515770</td>\n",
       "        <td>8358140</td>\n",
       "        <td>157630</td>\n",
       "        <td>204259812</td>\n",
       "        <td>0.77</td>\n",
       "        <td>14.46</td>\n",
       "        <td>6.58</td>\n",
       "        <td>0.14</td>\n",
       "    </tr>\n",
       "    <tr>\n",
       "        <td>9</td>\n",
       "        <td>as</td>\n",
       "        <td>Australia</td>\n",
       "        <td>7741220</td>\n",
       "        <td>7682300</td>\n",
       "        <td>58920</td>\n",
       "        <td>22751014</td>\n",
       "        <td>1.07</td>\n",
       "        <td>12.15</td>\n",
       "        <td>7.14</td>\n",
       "        <td>5.65</td>\n",
       "    </tr>\n",
       "    <tr>\n",
       "        <td>197</td>\n",
       "        <td>ee</td>\n",
       "        <td>European Union</td>\n",
       "        <td>4324782</td>\n",
       "        <td>None</td>\n",
       "        <td>None</td>\n",
       "        <td>513949445</td>\n",
       "        <td>0.25</td>\n",
       "        <td>10.2</td>\n",
       "        <td>10.2</td>\n",
       "        <td>2.5</td>\n",
       "    </tr>\n",
       "    <tr>\n",
       "        <td>77</td>\n",
       "        <td>in</td>\n",
       "        <td>India</td>\n",
       "        <td>3287263</td>\n",
       "        <td>2973193</td>\n",
       "        <td>314070</td>\n",
       "        <td>1251695584</td>\n",
       "        <td>1.22</td>\n",
       "        <td>19.55</td>\n",
       "        <td>7.32</td>\n",
       "        <td>0.04</td>\n",
       "    </tr>\n",
       "    <tr>\n",
       "        <td>7</td>\n",
       "        <td>ar</td>\n",
       "        <td>Argentina</td>\n",
       "        <td>2780400</td>\n",
       "        <td>2736690</td>\n",
       "        <td>43710</td>\n",
       "        <td>43431886</td>\n",
       "        <td>0.93</td>\n",
       "        <td>16.64</td>\n",
       "        <td>7.33</td>\n",
       "        <td>0.0</td>\n",
       "    </tr>\n",
       "    <tr>\n",
       "        <td>87</td>\n",
       "        <td>kz</td>\n",
       "        <td>Kazakhstan</td>\n",
       "        <td>2724900</td>\n",
       "        <td>2699700</td>\n",
       "        <td>25200</td>\n",
       "        <td>18157122</td>\n",
       "        <td>1.14</td>\n",
       "        <td>19.15</td>\n",
       "        <td>8.21</td>\n",
       "        <td>0.41</td>\n",
       "    </tr>\n",
       "    <tr>\n",
       "        <td>3</td>\n",
       "        <td>ag</td>\n",
       "        <td>Algeria</td>\n",
       "        <td>2381741</td>\n",
       "        <td>2381741</td>\n",
       "        <td>0</td>\n",
       "        <td>39542166</td>\n",
       "        <td>1.84</td>\n",
       "        <td>23.67</td>\n",
       "        <td>4.31</td>\n",
       "        <td>0.92</td>\n",
       "    </tr>\n",
       "    <tr>\n",
       "        <td>40</td>\n",
       "        <td>cg</td>\n",
       "        <td>Congo, Democratic Republic of the</td>\n",
       "        <td>2344858</td>\n",
       "        <td>2267048</td>\n",
       "        <td>77810</td>\n",
       "        <td>79375136</td>\n",
       "        <td>2.45</td>\n",
       "        <td>34.88</td>\n",
       "        <td>10.07</td>\n",
       "        <td>0.27</td>\n",
       "    </tr>\n",
       "    <tr>\n",
       "        <td>207</td>\n",
       "        <td>gl</td>\n",
       "        <td>Greenland</td>\n",
       "        <td>2166086</td>\n",
       "        <td>2166086</td>\n",
       "        <td>None</td>\n",
       "        <td>57733</td>\n",
       "        <td>0.0</td>\n",
       "        <td>14.48</td>\n",
       "        <td>8.49</td>\n",
       "        <td>5.98</td>\n",
       "    </tr>\n",
       "    <tr>\n",
       "        <td>151</td>\n",
       "        <td>sa</td>\n",
       "        <td>Saudi Arabia</td>\n",
       "        <td>2149690</td>\n",
       "        <td>2149690</td>\n",
       "        <td>0</td>\n",
       "        <td>27752316</td>\n",
       "        <td>1.46</td>\n",
       "        <td>18.51</td>\n",
       "        <td>3.33</td>\n",
       "        <td>0.55</td>\n",
       "    </tr>\n",
       "    <tr>\n",
       "        <td>114</td>\n",
       "        <td>mx</td>\n",
       "        <td>Mexico</td>\n",
       "        <td>1964375</td>\n",
       "        <td>1943945</td>\n",
       "        <td>20430</td>\n",
       "        <td>121736809</td>\n",
       "        <td>1.18</td>\n",
       "        <td>18.78</td>\n",
       "        <td>5.26</td>\n",
       "        <td>1.68</td>\n",
       "    </tr>\n",
       "    <tr>\n",
       "        <td>78</td>\n",
       "        <td>id</td>\n",
       "        <td>Indonesia</td>\n",
       "        <td>1904569</td>\n",
       "        <td>1811569</td>\n",
       "        <td>93000</td>\n",
       "        <td>255993674</td>\n",
       "        <td>0.92</td>\n",
       "        <td>16.72</td>\n",
       "        <td>6.37</td>\n",
       "        <td>1.16</td>\n",
       "    </tr>\n",
       "    <tr>\n",
       "        <td>165</td>\n",
       "        <td>su</td>\n",
       "        <td>Sudan</td>\n",
       "        <td>1861484</td>\n",
       "        <td>None</td>\n",
       "        <td>None</td>\n",
       "        <td>36108853</td>\n",
       "        <td>1.72</td>\n",
       "        <td>29.19</td>\n",
       "        <td>7.66</td>\n",
       "        <td>4.29</td>\n",
       "    </tr>\n",
       "    <tr>\n",
       "        <td>100</td>\n",
       "        <td>ly</td>\n",
       "        <td>Libya</td>\n",
       "        <td>1759540</td>\n",
       "        <td>1759540</td>\n",
       "        <td>0</td>\n",
       "        <td>6411776</td>\n",
       "        <td>2.23</td>\n",
       "        <td>18.03</td>\n",
       "        <td>3.58</td>\n",
       "        <td>7.8</td>\n",
       "    </tr>\n",
       "    <tr>\n",
       "        <td>79</td>\n",
       "        <td>ir</td>\n",
       "        <td>Iran</td>\n",
       "        <td>1648195</td>\n",
       "        <td>1531595</td>\n",
       "        <td>116600</td>\n",
       "        <td>81824270</td>\n",
       "        <td>1.2</td>\n",
       "        <td>17.99</td>\n",
       "        <td>5.94</td>\n",
       "        <td>0.07</td>\n",
       "    </tr>\n",
       "    <tr>\n",
       "        <td>118</td>\n",
       "        <td>mg</td>\n",
       "        <td>Mongolia</td>\n",
       "        <td>1564116</td>\n",
       "        <td>1553556</td>\n",
       "        <td>10560</td>\n",
       "        <td>2992908</td>\n",
       "        <td>1.31</td>\n",
       "        <td>20.25</td>\n",
       "        <td>6.35</td>\n",
       "        <td>0.84</td>\n",
       "    </tr>\n",
       "</table>"
      ],
      "text/plain": [
       "[(143, 'rs', 'Russia', 17098242, 16377742, 720500, 142423773, 0.04, 11.6, 13.69, 1.69),\n",
       " (32, 'ca', 'Canada', 9984670, 9093507, 891163, 35099836, 0.75, 10.28, 8.42, 5.66),\n",
       " (186, 'us', 'United States', 9826675, 9161966, 664709, 321368864, 0.78, 12.49, 8.15, 3.86),\n",
       " (37, 'ch', 'China', 9596960, 9326410, 270550, 1367485388, 0.45, 12.49, 7.53, 0.44),\n",
       " (24, 'br', 'Brazil', 8515770, 8358140, 157630, 204259812, 0.77, 14.46, 6.58, 0.14),\n",
       " (9, 'as', 'Australia', 7741220, 7682300, 58920, 22751014, 1.07, 12.15, 7.14, 5.65),\n",
       " (197, 'ee', 'European Union', 4324782, None, None, 513949445, 0.25, 10.2, 10.2, 2.5),\n",
       " (77, 'in', 'India', 3287263, 2973193, 314070, 1251695584, 1.22, 19.55, 7.32, 0.04),\n",
       " (7, 'ar', 'Argentina', 2780400, 2736690, 43710, 43431886, 0.93, 16.64, 7.33, 0.0),\n",
       " (87, 'kz', 'Kazakhstan', 2724900, 2699700, 25200, 18157122, 1.14, 19.15, 8.21, 0.41),\n",
       " (3, 'ag', 'Algeria', 2381741, 2381741, 0, 39542166, 1.84, 23.67, 4.31, 0.92),\n",
       " (40, 'cg', 'Congo, Democratic Republic of the', 2344858, 2267048, 77810, 79375136, 2.45, 34.88, 10.07, 0.27),\n",
       " (207, 'gl', 'Greenland', 2166086, 2166086, None, 57733, 0.0, 14.48, 8.49, 5.98),\n",
       " (151, 'sa', 'Saudi Arabia', 2149690, 2149690, 0, 27752316, 1.46, 18.51, 3.33, 0.55),\n",
       " (114, 'mx', 'Mexico', 1964375, 1943945, 20430, 121736809, 1.18, 18.78, 5.26, 1.68),\n",
       " (78, 'id', 'Indonesia', 1904569, 1811569, 93000, 255993674, 0.92, 16.72, 6.37, 1.16),\n",
       " (165, 'su', 'Sudan', 1861484, None, None, 36108853, 1.72, 29.19, 7.66, 4.29),\n",
       " (100, 'ly', 'Libya', 1759540, 1759540, 0, 6411776, 2.23, 18.03, 3.58, 7.8),\n",
       " (79, 'ir', 'Iran', 1648195, 1531595, 116600, 81824270, 1.2, 17.99, 5.94, 0.07),\n",
       " (118, 'mg', 'Mongolia', 1564116, 1553556, 10560, 2992908, 1.31, 20.25, 6.35, 0.84)]"
      ]
     },
     "execution_count": 122,
     "metadata": {},
     "output_type": "execute_result"
    }
   ],
   "source": [
    "%%sql\n",
    "SELECT *\n",
    "  FROM facts\n",
    " WHERE name <> 'world'\n",
    " ORDER BY area DESC\n",
    " LIMIT 20;"
   ]
  },
  {
   "cell_type": "markdown",
   "metadata": {},
   "source": [
    "Russia(https://www.cia.gov/library/publications/the-world-factbook/geos/rs.html) is the largest country in the world by area."
   ]
  },
  {
   "cell_type": "code",
   "execution_count": 40,
   "metadata": {
    "scrolled": true
   },
   "outputs": [
    {
     "name": "stdout",
     "output_type": "stream",
     "text": [
      " * sqlite:///factbook.db\n",
      "Done.\n"
     ]
    },
    {
     "data": {
      "text/html": [
       "<table>\n",
       "    <tr>\n",
       "        <th>Russia_to_Avg_Pop</th>\n",
       "    </tr>\n",
       "    <tr>\n",
       "        <td>0.4359871039388491</td>\n",
       "    </tr>\n",
       "</table>"
      ],
      "text/plain": [
       "[(0.4359871039388491,)]"
      ]
     },
     "execution_count": 40,
     "metadata": {},
     "output_type": "execute_result"
    }
   ],
   "source": [
    "%%sql\n",
    "SELECT AVG(population)/(SELECT population\n",
    "                          FROM facts\n",
    "                         WHERE name = 'Russia')\n",
    "       AS Russia_to_Avg_Pop\n",
    "  FROM facts\n",
    " WHERE name <> 'world';"
   ]
  },
  {
   "cell_type": "markdown",
   "metadata": {},
   "source": [
    "Despite its large area, Russia has a relatively small total population. \n",
    "However, its population is still rather large in numbers in comparison to those of other countries."
   ]
  },
  {
   "cell_type": "code",
   "execution_count": 41,
   "metadata": {},
   "outputs": [
    {
     "name": "stdout",
     "output_type": "stream",
     "text": [
      " * sqlite:///factbook.db\n",
      "Done.\n"
     ]
    },
    {
     "data": {
      "text/html": [
       "<table>\n",
       "    <tr>\n",
       "        <th>name</th>\n",
       "        <th>area</th>\n",
       "        <th>area_land</th>\n",
       "        <th>area_water</th>\n",
       "        <th>Russian_land_pct</th>\n",
       "        <th>Russian_water_pct</th>\n",
       "        <th>Russia_land_to_water</th>\n",
       "    </tr>\n",
       "    <tr>\n",
       "        <td>Russia</td>\n",
       "        <td>17098242</td>\n",
       "        <td>16377742</td>\n",
       "        <td>720500</td>\n",
       "        <td>0.96</td>\n",
       "        <td>0.04</td>\n",
       "        <td>22</td>\n",
       "    </tr>\n",
       "</table>"
      ],
      "text/plain": [
       "[('Russia', 17098242, 16377742, 720500, 0.96, 0.04, 22)]"
      ]
     },
     "execution_count": 41,
     "metadata": {},
     "output_type": "execute_result"
    }
   ],
   "source": [
    "%%sql\n",
    "SELECT name, area, area_land, area_water,\n",
    "       Round(area_land/ Cast(area AS FLOAT), 2) AS Russian_land_pct,\n",
    "       Round(area_water/ Cast(area AS FLOAT), 2) AS Russian_water_pct,\n",
    "       area_land/area_water AS Russia_land_to_water\n",
    "  FROM facts\n",
    " WHERE name = 'Russia';"
   ]
  },
  {
   "cell_type": "markdown",
   "metadata": {},
   "source": [
    "About 96% of Russia is covered by land, and about 4% is covered by water.\n",
    "\n",
    "Now I am curious about which country/territory/region has the highest percentage of land and of water."
   ]
  },
  {
   "cell_type": "code",
   "execution_count": 35,
   "metadata": {},
   "outputs": [
    {
     "name": "stdout",
     "output_type": "stream",
     "text": [
      " * sqlite:///factbook.db\n",
      "Done.\n"
     ]
    },
    {
     "data": {
      "text/html": [
       "<table>\n",
       "    <tr>\n",
       "        <th>name</th>\n",
       "        <th>area</th>\n",
       "        <th>area_land</th>\n",
       "        <th>area_water</th>\n",
       "        <th>Max_land_pct</th>\n",
       "    </tr>\n",
       "    <tr>\n",
       "        <td>Afghanistan</td>\n",
       "        <td>652230</td>\n",
       "        <td>652230</td>\n",
       "        <td>0</td>\n",
       "        <td>1.0</td>\n",
       "    </tr>\n",
       "</table>"
      ],
      "text/plain": [
       "[('Afghanistan', 652230, 652230, 0, 1.0)]"
      ]
     },
     "execution_count": 35,
     "metadata": {},
     "output_type": "execute_result"
    }
   ],
   "source": [
    "%%sql\n",
    "SELECT name, area, area_land, area_water,\n",
    "       MAX(Round(area_land/ Cast(area AS FLOAT), 2)) AS Max_land_pct\n",
    "  FROM facts\n",
    " WHERE name <> 'world';"
   ]
  },
  {
   "cell_type": "markdown",
   "metadata": {},
   "source": [
    "Afghanistan(https://www.cia.gov/library/publications/the-world-factbook/geos/af.html) is a landlocked mountainous country located within Central and South Asia."
   ]
  },
  {
   "cell_type": "code",
   "execution_count": 33,
   "metadata": {},
   "outputs": [
    {
     "name": "stdout",
     "output_type": "stream",
     "text": [
      " * sqlite:///factbook.db\n",
      "Done.\n"
     ]
    },
    {
     "data": {
      "text/html": [
       "<table>\n",
       "    <tr>\n",
       "        <th>name</th>\n",
       "        <th>area</th>\n",
       "        <th>area_land</th>\n",
       "        <th>area_water</th>\n",
       "        <th>Min_land_pct</th>\n",
       "    </tr>\n",
       "    <tr>\n",
       "        <td>British Indian Ocean Territory</td>\n",
       "        <td>54400</td>\n",
       "        <td>60</td>\n",
       "        <td>54340</td>\n",
       "        <td>0.0011</td>\n",
       "    </tr>\n",
       "</table>"
      ],
      "text/plain": [
       "[('British Indian Ocean Territory', 54400, 60, 54340, 0.0011)]"
      ]
     },
     "execution_count": 33,
     "metadata": {},
     "output_type": "execute_result"
    }
   ],
   "source": [
    "%%sql\n",
    "SELECT name, area, area_land, area_water,\n",
    "       MIN(Round(area_land/ Cast(area AS FLOAT), 4)) AS Min_land_pct\n",
    "  FROM facts\n",
    " WHERE name <> 'world';"
   ]
  },
  {
   "cell_type": "markdown",
   "metadata": {},
   "source": [
    "The land area of British Indian Ocean Territory(https://www.cia.gov/library/publications/the-world-factbook/geos/print_io.html) is about one-third the size of Washington, DC."
   ]
  },
  {
   "cell_type": "markdown",
   "metadata": {},
   "source": [
    "Some facts learned from above:\n",
    "\n",
    "1. Population\n",
    "\n",
    "1-1. China is the largest country by population.\n",
    "1-2. Monaco is the most densely poppulated country.\n",
    "1-3. China doesn't have the highest birth rate. Niger has the highest birth rate.\n",
    "1-4. China has a slow population growth rate.\n",
    "\n",
    "\n",
    "2. Area\n",
    "\n",
    "2-1. Russia is the largest country by area.\n",
    "2-2. Russia holds a relatively small population. It is not densely populated.\n",
    "2-3. Russia's ratio of land to water is 22:1. \n",
    "2-4. Afghanistan has 0% of water by area, because it is a landlocked country.\n",
    "2-5. British Indian Ocean Territory is mostly covered by water(99%)."
   ]
  }
 ],
 "metadata": {
  "kernelspec": {
   "display_name": "Python 3",
   "language": "python",
   "name": "python3"
  },
  "language_info": {
   "codemirror_mode": {
    "name": "ipython",
    "version": 3
   },
   "file_extension": ".py",
   "mimetype": "text/x-python",
   "name": "python",
   "nbconvert_exporter": "python",
   "pygments_lexer": "ipython3",
   "version": "3.7.6"
  }
 },
 "nbformat": 4,
 "nbformat_minor": 2
}
